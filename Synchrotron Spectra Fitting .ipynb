{
 "cells": [
  {
   "cell_type": "code",
   "execution_count": 16,
   "metadata": {},
   "outputs": [],
   "source": [
    "#Import Modules to Code\n",
    "import numpy\n",
    "import numpy as np\n",
    "import math as m\n",
    "from scipy import integrate\n",
    "import matplotlib.pyplot as plt\n",
    "%matplotlib inline\n",
    "from scipy.integrate import quad, dblquad\n",
    "import scipy.special as sp\n",
    "import scipy.constants as cn\n",
    "import numpy\n",
    "import numpy as np\n",
    "import math as m\n",
    "from scipy import integrate\n",
    "import matplotlib.pyplot as plt\n",
    "%matplotlib inline\n",
    "from scipy.integrate import quad, dblquad\n",
    "import scipy.constants as cn\n",
    "import scipy.special as sp\n",
    "import astropy.units as u\n",
    "from agnpy.emission_regions import Blob\n",
    "from agnpy.synchrotron import Synchrotron\n",
    "from agnpy.utils.plot import plot_sed\n",
    "from numpy import linspace, random\n",
    "from scipy.optimize import leastsq"
   ]
  },
  {
   "cell_type": "code",
   "execution_count": 17,
   "metadata": {},
   "outputs": [
    {
     "data": {
      "text/html": [
       "<style>.container {width: 98% !important; }</style>"
      ],
      "text/plain": [
       "<IPython.core.display.HTML object>"
      ]
     },
     "metadata": {},
     "output_type": "display_data"
    }
   ],
   "source": [
    "from IPython.core.display import display, HTML\n",
    "display(HTML(\"<style>.container {width: 98% !important; }</style>\"))"
   ]
  },
  {
   "cell_type": "code",
   "execution_count": 18,
   "metadata": {},
   "outputs": [],
   "source": [
    "##Physical Constants\n",
    "kpc = 3.085677558128*10**21\n",
    "pc = 3.085677558128*10**18\n",
    "fortio =4.80*10**(-10)\n",
    "c = 2.997925*10**10\n",
    "me =9.109*10**(-28)\n",
    "mp = 1.672614*10**(-24)\n",
    "hpl = 6.25*10**(-27)\n",
    "Ro=50*pc\n",
    "d_L= 18.5*10**3*kpc#(source luminosity distance):1.00e+27 cm\n",
    "B=0.001 #s.f.p"
   ]
  },
  {
   "cell_type": "code",
   "execution_count": 19,
   "metadata": {},
   "outputs": [],
   "source": [
    "##Free Parameters\n",
    "gmin_e = 1.2*10**5\n",
    "gmax_e = 10**6\n",
    "\n",
    "gmin_p = 3*10**4\n",
    "gmax_p = 3*10**5\n",
    "\n",
    "ps_e = 4.4\n",
    "ps_p = 2\n",
    "\n",
    "No_e=6.5*10**50 #f.p\n",
    "No_p=1.5*10**56"
   ]
  },
  {
   "cell_type": "code",
   "execution_count": 20,
   "metadata": {},
   "outputs": [],
   "source": [
    "##Power estimation\n",
    "#Electrons power [erg/s]\n",
    "def p_e(n,gmin_e,gmax_e,ps_e,No_e):\n",
    "    Res=np.zeros(len(n))\n",
    "    for i in range(len(n)):\n",
    "        dumm = n[i]        \n",
    "        res = dblquad(lambda x, g: ((No_e*(-ps_e+1)/((me*c**2)**(-ps_e+1)*(gmax_e**(-ps_e+1)-gmin_e**(-ps_e+1)))*4*cn.pi*fortio**2*me*c*(me*c**2)**(-ps_e))/3)*dumm*g**(-2-ps_e)*(9+36*x**2+16*x**4)/((3+4*x**2)*m.sqrt(1+(x**2)/3))*np.exp(-dumm*4*cn.pi*me*c*(1+(4*x**2)/3)*m.sqrt(1+x**2/3)/(g**2*3*fortio*B)), gmin_e, gmax_e, lambda x: 0, lambda x: np.inf)\n",
    "        Res[i] = res[0]\n",
    "    return Res\n",
    "\n",
    "\n",
    "\n",
    "v = numpy.logspace(8,10,10)\n",
    "       "
   ]
  },
  {
   "cell_type": "code",
   "execution_count": 21,
   "metadata": {},
   "outputs": [],
   "source": [
    "#Absorption Part\n",
    "def abs_e(n,gmin_e,gmax_e,ps_e,No_e):\n",
    "    Res=np.zeros(len(n))\n",
    "    for i in range(len(n)):\n",
    "        dumm = n[i]       \n",
    "        res = dblquad(lambda x, g: No_e*(-ps_e+1)/(4*cn.pi*Ro**3*(me*c**2)**(-ps_e+1)*(gmax_e**(-ps_e+1)-gmin_e**(-ps_e+1)))*(ps_e+2)*fortio**2*(me*c**2)**(-ps_e)*c/(6)*(g**(-ps_e-3)/dumm)*(9+36*x**2+16*x**4)/((3+4*x**2)*m.sqrt(1+(x**2)/3))*np.exp(-dumm*4*cn.pi*me*c*(1+(4*x**2)/3)*m.sqrt(1+x**2/3)/(g**2*3*fortio*B)), gmin_e, gmax_e, lambda x: 0, lambda x: np.inf, epsabs=1.49e-28, epsrel=1.49e-18)\n",
    "        Res[i] = res[0]\n",
    "    return Res\n",
    "\n",
    "#def fabs_e(n,gmin_e,gmax_e,ps_e,No_e):\n",
    "#    Res=np.zeros(len(n))\n",
    "#    for i in range(len(n)):\n",
    "#        dumm = n[i]    \n",
    "#        res =  cn.pi*Ro**2*p_e(n,gmin_e,gmax_e,ps_e,No_e)[0]*(-np.expm1(-abs_e(n,gmin_e,gmax_e,ps_e,No_e)[0]*Ro))/(d_L**2*(4*cn.pi)**2*Ro**3*abs_e(n,gmin_e,gmax_e,ps_e,No_e)[0])        \n",
    "#    return res\n",
    "\n",
    "def fabs_e(n,gmin_e,gmax_e,ps_e,No_e): \n",
    "    res =  cn.pi*Ro**2*p_e(n,gmin_e,gmax_e,ps_e,No_e)*(-np.expm1(-abs_e(n,gmin_e,gmax_e,ps_e,No_e)*Ro))/(d_L**2*(4*cn.pi)**2*Ro**3*abs_e(n,gmin_e,gmax_e,ps_e,No_e))        \n",
    "    return res\n",
    "    \n",
    "    \n",
    "Fabs_e=v*0\n",
    "        \n",
    "   "
   ]
  },
  {
   "cell_type": "code",
   "execution_count": 22,
   "metadata": {},
   "outputs": [],
   "source": [
    "#Proton power [erg/s]\n",
    "def p_p(n,gmin_p,gmax_p,ps_p,No_p):\n",
    "    Res=np.zeros(len(n))\n",
    "    for i in range(len(n)):\n",
    "        dumm = n[i]    \n",
    "        res = dblquad(lambda x, g: ((No_p*(-ps_p+1)/((mp*c**2)**(-ps_p+1)*(gmax_p**(-ps_p+1)-gmin_p**(-ps_p+1)))*4*cn.pi*fortio**2*mp*c*(mp*c**2)**(-ps_p))/3)*dumm*g**(-2-ps_p)*(9+36*x**2+16*x**4)/((3+4*x**2)*m.sqrt(1+(x**2)/3))*np.exp(-dumm*4*cn.pi*mp*c*(1+(4*x**2)/3)*m.sqrt(1+x**2/3)/(g**2*3*fortio*B)), gmin_p, gmax_p, lambda x: 0, lambda x: np.inf)\n",
    "        Res[i] = res[0]\n",
    "    return Res\n"
   ]
  },
  {
   "cell_type": "code",
   "execution_count": 23,
   "metadata": {},
   "outputs": [],
   "source": [
    "def abs_p(n,gmin_p,gmax_p,ps_p,No_p):\n",
    "    Res=np.zeros(len(n))\n",
    "    for i in range(len(n)):\n",
    "        dumm = n[i]    \n",
    "        res = dblquad(lambda x, g: No_p*(-ps_p+1)/(4*cn.pi*Ro**3*(mp*c**2)**(-ps_p+1)*(gmax_p**(-ps_p+1)-gmin_p**(-ps_p+1)))*(ps_p+2)*fortio**2*(mp*c**2)**(-ps_p)*c/(6)*(g**(-ps_p-3)/dumm)*(9+36*x**2+16*x**4)/((3+4*x**2)*m.sqrt(1+(x**2)/3))*np.exp(-dumm*4*cn.pi*mp*c*(1+(4*x**2)/3)*m.sqrt(1+x**2/3)/(g**2*3*fortio*B)), gmin_p, gmax_p, lambda x: 0, lambda x: np.inf, epsabs=1.49e-28, epsrel=1.49e-18)\n",
    "        Res[i] = res[0]\n",
    "    return Res\n",
    "\n",
    "def fabs_p(n,gmin_p,gmax_p,ps_p,No_p): \n",
    "    res =  cn.pi*Ro**2*p_p(n,gmin_p,gmax_p,ps_p,No_p)*(-np.expm1(-abs_p(n,gmin_p,gmax_p,ps_p,No_p)*Ro))/(d_L**2*(4*cn.pi)**2*Ro**3*abs_p(n,gmin_p,gmax_p,ps_p,No_p))        \n",
    "    return res\n",
    "\n",
    "Fabs_p=v*0\n"
   ]
  },
  {
   "cell_type": "code",
   "execution_count": 24,
   "metadata": {},
   "outputs": [],
   "source": [
    "def fall(n,gmin_e,gmax_e,ps_e,No_e,gmin_p,gmax_p,ps_p,No_p): \n",
    "    res = np.nan_to_num(fabs_e(n,gmin_e,gmax_e,ps_e,No_e))+np.nan_to_num(fabs_p(n,gmin_p,gmax_p,ps_p,No_p))\n",
    "    return res"
   ]
  },
  {
   "cell_type": "code",
   "execution_count": 25,
   "metadata": {},
   "outputs": [],
   "source": [
    "logdv = np.array([9.177536,9.686636,9.927370,10.988960,11.372912,14.522444,14.800029,14.950365,15.123852])\n",
    "lognFn = -np.array([15.84841,15.36888,15.29448,14.99820,15.14997,13.30146,13.51873,13.61827,13.73002])\n",
    "elognFn = -np.array([15.80702,15.32749,15.25309,14.95681,15.10857,13.15534,13.34264,13.55827,13.69430])\n",
    "ElognFn = -np.array([15.89417,15.41464,15.34024,15.04396,15.19572,13.52331,13.81976,13.68791,13.76894])\n",
    "#-----------------------------------------------------------------------------------------------------\n",
    "dv=10**logdv\n",
    "nFn=10**lognFn\n",
    "enFn=10**elognFn\n",
    "EnFn=10**ElognFn\n",
    "\n",
    "err=nFn-enFn\n",
    "Err=EnFn-nFn\n",
    "\n",
    "asymmetric_error = [err,Err]"
   ]
  },
  {
   "cell_type": "code",
   "execution_count": 26,
   "metadata": {},
   "outputs": [],
   "source": [
    "import matplotlib.pylab as pylab\n",
    "params = {'legend.fontsize': 'xx-large',\n",
    "          'figure.figsize': (15, 5),\n",
    "         'axes.labelsize': 'xx-large',\n",
    "         'axes.titlesize':'xx-large',\n",
    "         'xtick.labelsize':'xx-large',\n",
    "         'ytick.labelsize':'xx-large'}\n",
    "pylab.rcParams.update(params)"
   ]
  },
  {
   "cell_type": "code",
   "execution_count": 27,
   "metadata": {},
   "outputs": [],
   "source": [
    "from lmfit import Minimizer, Parameters, report_fit\n",
    "x = dv\n",
    "data = nFn\n",
    "\n",
    "# define objective function: returns the array to be minimized\n",
    "def fcn2min(params, x, data):\n",
    "    \"\"\"Model a decaying sine wave and subtract data.\"\"\"\n",
    "    gmin_e = params['gmin_e']\n",
    "    gmax_e = params['gmax_e']\n",
    "    ps_e = params['ps_e']\n",
    "    No_e = params['No_e']\n",
    "    gmin_p = params['gmin_p']\n",
    "    gmax_p = params['gmax_p']\n",
    "    ps_p = params['ps_p']\n",
    "    No_p = params['No_p']          \n",
    "    model = x*(np.nan_to_num(fabs_e(x,gmin_e,gmax_e,ps_e,No_e))+np.nan_to_num(fabs_p(x,gmin_p,gmax_p,ps_p,No_p)))\n",
    "    return model - data\n",
    "\n",
    "params = Parameters()\n",
    "params.add('gmin_e', value=76684.0880,min=10**3, max=10**5)\n",
    "params.add('gmax_e', value=9990075.36)\n",
    "params.add('ps_e', value=4.46836621)\n",
    "params.add('No_e', value=2.9758e+51)\n",
    "params.add('gmin_p', value=23095.2212,min=10**3)\n",
    "params.add('gmax_p', value=210304.915)\n",
    "params.add('ps_p', value=1.47962706)\n",
    "params.add('No_p', value=1.6854e+56)\n",
    "\n"
   ]
  },
  {
   "cell_type": "code",
   "execution_count": 28,
   "metadata": {
    "scrolled": true
   },
   "outputs": [
    {
     "name": "stderr",
     "output_type": "stream",
     "text": [
      "C:\\ProgramData\\Anaconda3\\lib\\site-packages\\scipy\\integrate\\quadpack.py:879: IntegrationWarning: The integral is probably divergent, or slowly convergent.\n",
      "  quad_r = quad(f, low, high, args=args, full_output=self.full_output,\n",
      "C:\\ProgramData\\Anaconda3\\lib\\site-packages\\scipy\\integrate\\quadpack.py:879: IntegrationWarning: The algorithm does not converge.  Roundoff error is detected\n",
      "  in the extrapolation table.  It is assumed that the requested tolerance\n",
      "  cannot be achieved, and that the returned result (if full_output = 1) is \n",
      "  the best which can be obtained.\n",
      "  quad_r = quad(f, low, high, args=args, full_output=self.full_output,\n",
      "C:\\ProgramData\\Anaconda3\\lib\\site-packages\\scipy\\integrate\\quadpack.py:879: IntegrationWarning: The occurrence of roundoff error is detected, which prevents \n",
      "  the requested tolerance from being achieved.  The error may be \n",
      "  underestimated.\n",
      "  quad_r = quad(f, low, high, args=args, full_output=self.full_output,\n"
     ]
    },
    {
     "name": "stdout",
     "output_type": "stream",
     "text": [
      "[[Fit Statistics]]\n",
      "    # fitting method   = leastsq\n",
      "    # function evals   = 54\n",
      "    # data points      = 9\n",
      "    # variables        = 8\n",
      "    chi-square         = 1.1111e-30\n",
      "    reduced chi-square = 1.1111e-30\n",
      "    Akaike info crit   = -624.524943\n",
      "    Bayesian info crit = -622.947146\n",
      "[[Variables]]\n",
      "    gmin_e:  76683.0780 +/- 649956.035 (847.59%) (init = 76684.09)\n",
      "    gmax_e:  2.6393e+08 +/- 4.1593e+14 (157587113.93%) (init = 9990075)\n",
      "    ps_e:    4.46837077 +/- 0.07976409 (1.79%) (init = 4.468366)\n",
      "    No_e:    2.9760e+51 +/- 8.7444e+52 (2938.34%) (init = 2.9758e+51)\n",
      "    gmin_p:  23097.8116 +/- 712941.297 (3086.62%) (init = 23095.22)\n",
      "    gmax_p:  210301.607 +/- 2815690.02 (1338.88%) (init = 210304.9)\n",
      "    ps_p:    1.47960504 +/- 36.7737289 (2485.37%) (init = 1.479627)\n",
      "    No_p:    1.6853e+56 +/- 2.0427e+57 (1212.08%) (init = 1.6854e+56)\n",
      "[[Correlations]] (unreported correlations are < 0.100)\n",
      "    C(gmin_e, No_e)   = -1.000\n",
      "    C(gmax_p, ps_p)   = 0.995\n",
      "    C(No_e, gmax_p)   = -0.994\n",
      "    C(gmin_e, gmax_p) = 0.994\n",
      "    C(No_e, ps_p)     = -0.985\n",
      "    C(gmin_e, ps_p)   = 0.985\n",
      "    C(gmin_p, No_p)   = -0.896\n",
      "    C(gmin_p, ps_p)   = 0.891\n",
      "    C(gmin_p, gmax_p) = 0.871\n",
      "    C(No_e, gmin_p)   = -0.859\n",
      "    C(gmin_e, gmin_p) = 0.859\n",
      "    C(ps_p, No_p)     = -0.607\n",
      "    C(gmax_p, No_p)   = -0.586\n",
      "    C(No_e, No_p)     = 0.576\n",
      "    C(gmin_e, No_p)   = -0.576\n",
      "    C(gmax_e, ps_e)   = 0.504\n",
      "    C(gmin_e, ps_e)   = 0.139\n",
      "    C(ps_e, No_e)     = -0.137\n",
      "    C(ps_e, gmax_p)   = 0.137\n",
      "    C(ps_e, ps_p)     = 0.135\n",
      "    C(ps_e, gmin_p)   = 0.118\n"
     ]
    },
    {
     "data": {
      "image/png": "[encoded data removed]",
      "text/plain": [
       "<Figure size 1080x360 with 1 Axes>"
      ]
     },
     "metadata": {
      "needs_background": "light"
     },
     "output_type": "display_data"
    }
   ],
   "source": [
    "# do fit, here with the default leastsq algorithm\n",
    "minner = Minimizer(fcn2min, params, fcn_args=(x, data))\n",
    "result = minner.minimize()\n",
    "\n",
    "# calculate final result\n",
    "final = data + result.residual\n",
    "\n",
    "# write error report\n",
    "report_fit(result)\n",
    "\n",
    "# try to plot results\n",
    "try:\n",
    "    import matplotlib.pyplot as plt\n",
    "    plt.plot(x, data, 'k+')\n",
    "    plt.plot(x, final, 'r')\n",
    "    plt.yscale(\"log\")\n",
    "    plt.xscale(\"log\")\n",
    "    plt.show()\n",
    "except ImportError:\n",
    "    pass\n",
    "# <end of examples/doc_parameters_basic.py>"
   ]
  },
  {
   "cell_type": "code",
   "execution_count": null,
   "metadata": {},
   "outputs": [],
   "source": []
  },
  {
   "cell_type": "code",
   "execution_count": null,
   "metadata": {},
   "outputs": [],
   "source": []
  },
  {
   "cell_type": "code",
   "execution_count": null,
   "metadata": {},
   "outputs": [],
   "source": []
  },
  {
   "cell_type": "code",
   "execution_count": null,
   "metadata": {},
   "outputs": [],
   "source": []
  }
 ],
 "metadata": {
  "kernelspec": {
   "display_name": "Python 3 (ipykernel)",
   "language": "python",
   "name": "python3"
  },
  "language_info": {
   "codemirror_mode": {
    "name": "ipython",
    "version": 3
   },
   "file_extension": ".py",
   "mimetype": "text/x-python",
   "name": "python",
   "nbconvert_exporter": "python",
   "pygments_lexer": "ipython3",
   "version": "3.9.7"
  }
 },
 "nbformat": 4,
 "nbformat_minor": 4
}
