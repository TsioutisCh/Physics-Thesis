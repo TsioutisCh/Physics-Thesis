{
 "cells": [
  {
   "cell_type": "markdown",
   "metadata": {},
   "source": [
    "# A.G.N"
   ]
  },
  {
   "cell_type": "code",
   "execution_count": 1,
   "metadata": {},
   "outputs": [
    {
     "data": {
      "text/html": [
       "<style>.container {width: 98% !important; }</style>"
      ],
      "text/plain": [
       "<IPython.core.display.HTML object>"
      ]
     },
     "metadata": {},
     "output_type": "display_data"
    }
   ],
   "source": [
    "from IPython.core.display import display, HTML\n",
    "display(HTML(\"<style>.container {width: 98% !important; }</style>\"))"
   ]
  },
  {
   "cell_type": "markdown",
   "metadata": {},
   "source": [
    "## Full Synchrotron Spectra"
   ]
  },
  {
   "cell_type": "code",
   "execution_count": 2,
   "metadata": {},
   "outputs": [
    {
     "name": "stderr",
     "output_type": "stream",
     "text": [
      "C:\\Users\\CHARAL~1\\AppData\\Local\\Temp/ipykernel_2260/2210023393.py:160: RuntimeWarning: invalid value encountered in true_divide\n",
      "  Iabs_p = P_p*(-np.expm1(-Abs_p*Ro))/((4*cn.pi)**2*Ro**3*Abs_p)\n"
     ]
    }
   ],
   "source": [
    "#Import Package Modules to Code\n",
    "import numpy\n",
    "import numpy as np\n",
    "import math as m\n",
    "from scipy import integrate\n",
    "import matplotlib.pyplot as plt\n",
    "%matplotlib inline\n",
    "from scipy.integrate import quad, dblquad\n",
    "import scipy.special as sp\n",
    "import scipy.constants as cn\n",
    "import numpy\n",
    "import numpy as np\n",
    "import math as m\n",
    "from scipy import integrate\n",
    "import matplotlib.pyplot as plt\n",
    "%matplotlib inline\n",
    "from scipy.integrate import quad, dblquad\n",
    "import scipy.constants as cn\n",
    "import scipy.special as sp\n",
    "import astropy.units as u\n",
    "from agnpy.emission_regions import Blob\n",
    "from agnpy.synchrotron import Synchrotron\n",
    "from agnpy.utils.plot import plot_sed\n",
    "import time\n",
    "\n",
    "kpc = 3.085677558128*10**21\n",
    "pc = 3.085677558128*10**18\n",
    "\n",
    "#Constants in cgs\n",
    "fortio =4.80*10**(-10)\n",
    "c = 2.997925*10**10\n",
    "me =9.109*10**(-28)\n",
    "mp = 1.672614*10**(-24)\n",
    "hpl = 6.25*10**(-27)\n",
    "\n",
    "#Free Parameters of Models\n",
    "B=0.001 #s.f.p\n",
    "gmin_e = 1.2*10**5\n",
    "gmax_e = 10**6\n",
    "gmin_p = 3*10**4\n",
    "gmax_p = 3*10**5\n",
    "ps_e = 4.4\n",
    "ps_p = 2\n",
    "No_e=6.5*10**50 #f.p\n",
    "No_p=1.5*10**56\n",
    "\n",
    "Ro=50*pc #source radius\n",
    "d_L= 18.5*10**3*kpc#(source distance):1.00e+27 cm\n",
    "\n",
    "#We separate the constant parts in our calculation for easier coding\n",
    "C_e=No_e*(-ps_e+1)/((me*c**2)**(-ps_e+1)*(gmax_e**(-ps_e+1)-gmin_e**(-ps_e+1)))\n",
    "C_p=No_p*(-ps_p+1)/((mp*c**2)**(-ps_p+1)*(gmax_p**(-ps_p+1)-gmin_p**(-ps_p+1)))\n",
    "Constant_e=(C_e*4*cn.pi*fortio**2*me*c*(me*c**2)**(-ps_e))/3\n",
    "Constant_p=(C_p*4*cn.pi*fortio**2*mp*c*(mp*c**2)**(-ps_p))/3\n",
    "\n",
    "#Electrons power [erg/s]\n",
    "def p_e(n):\n",
    "    res = dblquad(lambda x, g: Constant_e*n*g**(-2-ps_e)*(9+36*x**2+16*x**4)/((3+4*x**2)\n",
    "        *m.sqrt(1+(x**2)/3))*np.exp(-n*4*cn.pi*me*c*(1+(4*x**2)/3)*m.sqrt(1+x**2/3)\n",
    "        /(g**2*3*fortio*B)), gmin_e, gmax_e, lambda x: 0, lambda x: np.inf)\n",
    "    return res\n",
    "\n",
    "v_e = numpy.logspace(8,17,100)\n",
    "P_e = v_e*0\n",
    "\n",
    "for i in range(len(v_e)):\n",
    "    P_e[i] = p_e(v_e[i])[0]  \n",
    "       \n",
    "        \n",
    "#Proton power [erg/s]\n",
    "def p_p(n):\n",
    "    res = dblquad(lambda x, g: Constant_p*n*g**(-2-ps_p)*(9+36*x**2+16*x**4)/((3+4*x**2)*\n",
    "        m.sqrt(1+(x**2)/3))*np.exp(-n*4*cn.pi*mp*c*(1+(4*x**2)/3)*m.sqrt(1+x**2/3)\n",
    "        /(g**2*3*fortio*B)), gmin_p, gmax_p, lambda x: 0, lambda x: np.inf)\n",
    "    return res\n",
    "\n",
    "v_p = numpy.logspace(8,17,100)\n",
    "P_p = v_p*0\n",
    "\n",
    "for i in range(len(v_p)):\n",
    "    P_p[i] = p_p(v_p[i])[0]  \n",
    "       \n",
    "#Calculation of synchrotron self-absorption component for electrons\n",
    "        \n",
    "Ca_e=No_e*(-ps_e+1)/(4*cn.pi*Ro**3*(me*c**2)**(-ps_e+1)*(gmax_e**(-ps_e+1)-gmin_e**(-ps_e+1)))\n",
    "AbsConstant_e=Ca_e*(ps_e+2)*fortio**2*(me*c**2)**(-ps_e)*c/(6)\n",
    "\n",
    "def abs_e(n):      \n",
    "    resa = dblquad(lambda x, g: AbsConstant_e*(g**(-ps_e-3)/n)*(9+36*x**2+16*x**4)\n",
    "         /((3+4*x**2)*m.sqrt(1+(x**2)/3))*np.exp(-n*4*cn.pi*me*c*(1+(4*x**2)/3)\n",
    "         *m.sqrt(1+x**2/3)/(g**2*3*fortio*B)), gmin_e, gmax_e\n",
    "         , lambda x: 0, lambda x: np.inf, epsabs=1.49e-28, epsrel=1.49e-18)\n",
    "    return resa\n",
    "\n",
    "Abs_e = v_e*0\n",
    "Pabs_e = v_e*0\n",
    "\n",
    "ssa_e = 0\n",
    "\n",
    "for i in range(len(v_e)):\n",
    "    Abs_e[i] = abs_e(v_e[i])[0] \n",
    "    \n",
    "    \n",
    "Iabs_e=v_e*0\n",
    "\n",
    "\n",
    "t_ne = Ro*Abs_e #optiko vathos\n",
    "   \n",
    "#find the index of the table t_n in which the source is becoming optical thick    \n",
    "for i in range(len(v_e)):      \n",
    "    if t_ne[i] >= 1:\n",
    "        ssa_e = i\n",
    "        \n",
    "vssa_e = v_e[ssa_e] #aprrox is the value of vssa\n",
    "\n",
    "\n",
    "#Iabs2_e = P_e*(1-np.exp(-Abs_e*Ro))/((4*cn.pi)**2*Ro**3*Abs_e) \n",
    "Iabs_e = P_e*(-np.expm1(-Abs_e*Ro))/((4*cn.pi)**2*Ro**3*Abs_e)\n",
    "\n",
    "        \n",
    "#From Intensity to Flux \n",
    "Fabs_e=v_e*0\n",
    "\n",
    "for i in range(len(v_e)):\n",
    "    Fabs_e[i]=cn.pi*Ro**2*Iabs_e[i]/d_L**2 \n",
    "    \n",
    "#Calculation of synchrotron self-absorption component for protons\n",
    "    \n",
    "Ca_p=No_p*(-ps_p+1)/(4*cn.pi*Ro**3*(mp*c**2)**(-ps_p+1)*(gmax_p**(-ps_p+1)-gmin_p**(-ps_p+1)))\n",
    "AbsConstant_p=Ca_p*(ps_p+2)*fortio**2*(mp*c**2)**(-ps_p)*c/(6)\n",
    "\n",
    "def abs_p(n):      \n",
    "    res = dblquad(lambda x, g: AbsConstant_p*(g**(-ps_p-3)/n)*(9+36*x**2+16*x**4)/((3+4*x**2)\n",
    "        *m.sqrt(1+(x**2)/3))*np.exp(-n*4*cn.pi*mp*c*(1+(4*x**2)/3)*m.sqrt(1+x**2/3)/(g**2*3*fortio*B))\n",
    "        , gmin_p, gmax_p, lambda x: 0, lambda x: np.inf, epsabs=1.49e-28, epsrel=1.49e-18)\n",
    "    return res\n",
    "\n",
    "Abs_p = v_p*0\n",
    "Pabs_p = v_p*0\n",
    "\n",
    "ssa_p = 0\n",
    "\n",
    "for i in range(len(v_p)):\n",
    "    Abs_p[i] = abs_p(v_p[i])[0]\n",
    "    \n",
    "Iabs_p=v_p*0\n",
    "\n",
    "\n",
    "t_np = Ro*Abs_p #optiko vathos\n",
    "   \n",
    "#find the index of the table t_n in which the source is becoming optical thick    \n",
    "for i in range(len(v_p)):      \n",
    "    if t_np[i] >= 1:\n",
    "        ssa_p = i\n",
    "        \n",
    "vssa_p = v_p[ssa_p] #aprrox is the value of vssa\n",
    "\n",
    "\n",
    "#Iabs2_e = P_e*(1-np.exp(-Abs_e*Ro))/((4*cn.pi)**2*Ro**3*Abs_e) \n",
    "Iabs_p = P_p*(-np.expm1(-Abs_p*Ro))/((4*cn.pi)**2*Ro**3*Abs_p)\n",
    "\n",
    "        \n",
    "#From Intensity to Flux \n",
    "Fabs_p=v_p*0\n",
    "\n",
    "for i in range(len(v_p)):\n",
    "    Fabs_p[i]=cn.pi*Ro**2*Iabs_p[i]/d_L**2    \n",
    "    \n",
    "    \n",
    "#insert data\n",
    "logdv = np.array([9.177536,9.686636,9.927370,10.988960,11.372912,14.522444,14.800029,14.950365,15.123852])\n",
    "lognFn = -np.array([15.84841,15.36888,15.29448,14.99820,15.14997,13.30146,13.51873,13.61827,13.73002])\n",
    "elognFn = -np.array([15.80702,15.32749,15.25309,14.95681,15.10857,13.15534,13.34264,13.55827,13.69430])\n",
    "ElognFn = -np.array([15.89417,15.41464,15.34024,15.04396,15.19572,13.52331,13.81976,13.68791,13.76894])\n",
    "#-----------------------------------------------------------------------------------------------------\n",
    "dv=10**logdv\n",
    "nFn=10**lognFn\n",
    "enFn=10**elognFn\n",
    "EnFn=10**ElognFn\n",
    "\n",
    "err=nFn-enFn\n",
    "Err=EnFn-nFn\n",
    "\n",
    "asymmetric_error = [err,Err]\n",
    "\n",
    "Fall = Fabs_e+Fabs_p\n",
    "#insert data\n",
    "logdv = np.array([9.177536,9.686636,9.927370,10.988960,11.372912,14.522444,14.800029,14.950365,15.123852])\n",
    "lognFn = -np.array([15.84841,15.36888,15.29448,14.99820,15.14997,13.30146,13.51873,13.61827,13.73002])\n",
    "elognFn = -np.array([15.80702,15.32749,15.25309,14.95681,15.10857,13.15534,13.34264,13.55827,13.69430])\n",
    "ElognFn = -np.array([15.89417,15.41464,15.34024,15.04396,15.19572,13.52331,13.81976,13.68791,13.76894])\n",
    "#-----------------------------------------------------------------------------------------------------\n",
    "dv=10**logdv\n",
    "nFn=10**lognFn\n",
    "enFn=10**elognFn\n",
    "EnFn=10**ElognFn\n",
    "\n",
    "err=nFn-enFn\n",
    "Err=EnFn-nFn\n",
    "\n",
    "asymmetric_error = [err,Err]\n",
    "\n",
    "\n",
    "Fabsc_p = np.nan_to_num(Fabs_p)\n",
    "\n",
    "\n",
    "for i in range(len(v_p)):\n",
    "    Fall[i]=Fabs_e[i] + Fabsc_p[i]\n",
    "    \n",
    " "
   ]
  },
  {
   "cell_type": "code",
   "execution_count": 3,
   "metadata": {},
   "outputs": [],
   "source": [
    "import matplotlib.pylab as pylab\n",
    "params = {'legend.fontsize': 'xx-large',\n",
    "          'figure.figsize': (15, 5),\n",
    "         'axes.labelsize': 'xx-large',\n",
    "         'axes.titlesize':'xx-large',\n",
    "         'xtick.labelsize':'xx-large',\n",
    "         'ytick.labelsize':'xx-large'}\n",
    "pylab.rcParams.update(params)"
   ]
  },
  {
   "cell_type": "code",
   "execution_count": 4,
   "metadata": {},
   "outputs": [
    {
     "data": {
      "text/plain": [
       "Text(0.5, 1.0, 'Synchrotron Spectra for power law distribution')"
      ]
     },
     "execution_count": 4,
     "metadata": {},
     "output_type": "execute_result"
    },
    {
     "data": {
      "image/png": "[encoded data removed]",
      "text/plain": [
       "<Figure size 1296x864 with 1 Axes>"
      ]
     },
     "metadata": {
      "needs_background": "light"
     },
     "output_type": "display_data"
    }
   ],
   "source": [
    "plt.figure(figsize=(18,12))    \n",
    "\n",
    "plt.plot(v_e,v_e*Fabs_e , label='Electrons',ls=\"--\", color=\"royalblue\")\n",
    "plt.plot(v_p,v_p*Fabs_p, label='Protons',ls=\"--\", color=\"indianred\")\n",
    "plt.plot(v_p,v_p*Fall, label='SED',ls=\"--\", color=\"black\")\n",
    "\n",
    "\n",
    "plt.legend()\n",
    "plt.errorbar(x=dv, y=nFn, yerr=asymmetric_error, fmt='o')\n",
    "\n",
    "plt.ylim(1e-18,1e-12)\n",
    "plt.xlim(1e8,1e18)\n",
    "plt.xlabel(\"ν [Hz]\")\n",
    "plt.ylabel(\"νF(ν) [erg/s cm-2]\")\n",
    "plt.yscale(\"log\")\n",
    "plt.xscale(\"log\")\n",
    "#plt.scatter(dv,nFn)\n",
    "plt.title(\"Synchrotron Spectra for power law distribution\")    \n",
    "    \n"
   ]
  },
  {
   "cell_type": "code",
   "execution_count": 5,
   "metadata": {},
   "outputs": [
    {
     "data": {
      "text/plain": [
       "4.0950047013392706e+39"
      ]
     },
     "execution_count": 5,
     "metadata": {},
     "output_type": "execute_result"
    }
   ],
   "source": [
    "4*cn.pi*d_L**2*10**(-13)"
   ]
  },
  {
   "cell_type": "code",
   "execution_count": 6,
   "metadata": {},
   "outputs": [],
   "source": [
    "U_b = 4*cn.pi*Ro**3*B**2/(8*cn.pi)"
   ]
  },
  {
   "cell_type": "code",
   "execution_count": 7,
   "metadata": {},
   "outputs": [],
   "source": [
    "U_elv = quad(lambda g: AbsConstant_e*4*cn.pi*me*c**2*(g*me*c**2)**(-ps_e+1) , gmin_e, gmax_e)"
   ]
  },
  {
   "cell_type": "code",
   "execution_count": 8,
   "metadata": {},
   "outputs": [],
   "source": [
    "U_el = 4*cn.pi*Ro**3*U_elv[0]"
   ]
  },
  {
   "cell_type": "code",
   "execution_count": 9,
   "metadata": {},
   "outputs": [],
   "source": [
    "U_prv = quad(lambda g: AbsConstant_p*4*cn.pi*mp*c**2*(g*mp*c**2)**(-ps_p+1) , gmin_p, gmax_p)"
   ]
  },
  {
   "cell_type": "code",
   "execution_count": 10,
   "metadata": {},
   "outputs": [],
   "source": [
    "U_pr = 4*cn.pi*Ro**3*U_prv[0]"
   ]
  },
  {
   "cell_type": "code",
   "execution_count": 11,
   "metadata": {},
   "outputs": [],
   "source": [
    "Utot = U_b+U_el+U_pr"
   ]
  },
  {
   "cell_type": "code",
   "execution_count": 12,
   "metadata": {},
   "outputs": [
    {
     "data": {
      "text/plain": [
       "5.0461210435077334e+69"
      ]
     },
     "execution_count": 12,
     "metadata": {},
     "output_type": "execute_result"
    }
   ],
   "source": [
    "Utot"
   ]
  },
  {
   "cell_type": "code",
   "execution_count": 13,
   "metadata": {},
   "outputs": [
    {
     "data": {
      "text/plain": [
       "4.431699264161678e+56"
      ]
     },
     "execution_count": 13,
     "metadata": {},
     "output_type": "execute_result"
    }
   ],
   "source": [
    "U_pr"
   ]
  },
  {
   "cell_type": "code",
   "execution_count": 14,
   "metadata": {},
   "outputs": [
    {
     "data": {
      "text/plain": [
       "1.8362492996004463e+54"
      ]
     },
     "execution_count": 14,
     "metadata": {},
     "output_type": "execute_result"
    }
   ],
   "source": [
    "U_b"
   ]
  },
  {
   "cell_type": "code",
   "execution_count": 15,
   "metadata": {},
   "outputs": [
    {
     "data": {
      "text/plain": [
       "5.046121043507289e+69"
      ]
     },
     "execution_count": 15,
     "metadata": {},
     "output_type": "execute_result"
    }
   ],
   "source": [
    "U_el"
   ]
  },
  {
   "cell_type": "code",
   "execution_count": 16,
   "metadata": {},
   "outputs": [],
   "source": [
    "vFabs_e = v_e*Fabs_e\n",
    "vFabs_p = v_p*Fabsc_p"
   ]
  },
  {
   "cell_type": "code",
   "execution_count": 17,
   "metadata": {},
   "outputs": [],
   "source": [
    "max_value = numpy.amax(vFabs_e)"
   ]
  },
  {
   "cell_type": "code",
   "execution_count": 18,
   "metadata": {},
   "outputs": [],
   "source": [
    "for i in range(len(v_e)):\n",
    "        if vFabs_e[i] == max_value:\n",
    "            fmax = i\n",
    "        \n",
    "        \n",
    "vmax = v_e[fmax] #aprrox is the value of vssa\n"
   ]
  },
  {
   "cell_type": "code",
   "execution_count": 19,
   "metadata": {},
   "outputs": [
    {
     "data": {
      "text/plain": [
       "6.397701692710762e-14"
      ]
     },
     "execution_count": 19,
     "metadata": {},
     "output_type": "execute_result"
    }
   ],
   "source": [
    "max_value\n"
   ]
  },
  {
   "cell_type": "code",
   "execution_count": 20,
   "metadata": {},
   "outputs": [
    {
     "data": {
      "text/plain": [
       "151991108295293.3"
      ]
     },
     "execution_count": 20,
     "metadata": {},
     "output_type": "execute_result"
    }
   ],
   "source": [
    "vmax"
   ]
  },
  {
   "cell_type": "code",
   "execution_count": 21,
   "metadata": {},
   "outputs": [],
   "source": [
    "max_value = numpy.max(vFabs_p)\n",
    "\n",
    "for i in range(len(v_p)):\n",
    "        if vFabs_p[i] == max_value:\n",
    "            fmax = i\n",
    "        \n",
    "        \n",
    "vmax = v_p[fmax] #aprrox is the value of vssa\n"
   ]
  },
  {
   "cell_type": "code",
   "execution_count": 22,
   "metadata": {},
   "outputs": [
    {
     "data": {
      "text/plain": [
       "9.916587565190016e-16"
      ]
     },
     "execution_count": 22,
     "metadata": {},
     "output_type": "execute_result"
    }
   ],
   "source": [
    "max_value\n"
   ]
  },
  {
   "cell_type": "code",
   "execution_count": 23,
   "metadata": {},
   "outputs": [
    {
     "data": {
      "text/plain": [
       "81113083078.96889"
      ]
     },
     "execution_count": 23,
     "metadata": {},
     "output_type": "execute_result"
    }
   ],
   "source": [
    "vmax"
   ]
  },
  {
   "cell_type": "code",
   "execution_count": 24,
   "metadata": {},
   "outputs": [
    {
     "data": {
      "text/plain": [
       "4.0608472700695667e+37"
      ]
     },
     "execution_count": 24,
     "metadata": {},
     "output_type": "execute_result"
    }
   ],
   "source": [
    "4*cn.pi*d_L**2*9.916587565190016e-16"
   ]
  },
  {
   "cell_type": "code",
   "execution_count": 25,
   "metadata": {},
   "outputs": [],
   "source": [
    "g_peak = (4*cn.pi*mp*c*vmax/(3*fortio*B))**(1/2)"
   ]
  },
  {
   "cell_type": "code",
   "execution_count": 26,
   "metadata": {},
   "outputs": [
    {
     "data": {
      "text/plain": [
       "188398.47635470759"
      ]
     },
     "execution_count": 26,
     "metadata": {},
     "output_type": "execute_result"
    }
   ],
   "source": [
    "g_peak"
   ]
  },
  {
   "cell_type": "code",
   "execution_count": 27,
   "metadata": {},
   "outputs": [],
   "source": [
    "tcool = 4.8*10**18*B**(-2)*g_peak**(-1)"
   ]
  },
  {
   "cell_type": "code",
   "execution_count": 28,
   "metadata": {},
   "outputs": [
    {
     "data": {
      "text/plain": [
       "2.547791305362147e+19"
      ]
     },
     "execution_count": 28,
     "metadata": {},
     "output_type": "execute_result"
    }
   ],
   "source": [
    "tcool"
   ]
  },
  {
   "cell_type": "code",
   "execution_count": 29,
   "metadata": {},
   "outputs": [],
   "source": [
    "tcool_e = tcool*(1836)**(-4)"
   ]
  },
  {
   "cell_type": "code",
   "execution_count": 30,
   "metadata": {},
   "outputs": [
    {
     "data": {
      "text/plain": [
       "2242193.7813680666"
      ]
     },
     "execution_count": 30,
     "metadata": {},
     "output_type": "execute_result"
    }
   ],
   "source": [
    "tcool_e"
   ]
  },
  {
   "cell_type": "code",
   "execution_count": null,
   "metadata": {},
   "outputs": [],
   "source": []
  }
 ],
 "metadata": {
  "kernelspec": {
   "display_name": "Python 3 (ipykernel)",
   "language": "python",
   "name": "python3"
  },
  "language_info": {
   "codemirror_mode": {
    "name": "ipython",
    "version": 3
   },
   "file_extension": ".py",
   "mimetype": "text/x-python",
   "name": "python",
   "nbconvert_exporter": "python",
   "pygments_lexer": "ipython3",
   "version": "3.9.7"
  }
 },
 "nbformat": 4,
 "nbformat_minor": 4
}
